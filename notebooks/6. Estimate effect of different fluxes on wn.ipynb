{
 "cells": [
  {
   "cell_type": "code",
   "execution_count": 2,
   "metadata": {},
   "outputs": [
    {
     "name": "stdout",
     "output_type": "stream",
     "text": [
      "The autoreload extension is already loaded. To reload it, use:\n",
      "  %reload_ext autoreload\n"
     ]
    }
   ],
   "source": [
    "%load_ext autoreload\n",
    "%autoreload 2\n",
    "%matplotlib inline\n",
    "import matplotlib.pyplot as plt\n",
    "import seaborn as sns\n",
    "from matplotlib.gridspec import GridSpec\n",
    "\n",
    "sns.set_context('talk')\n",
    "sns.set_style(\"whitegrid\")\n",
    "sns.set_palette(\"colorblind\")\n",
    "\n",
    "import copy\n",
    "from hendrics.fake import filter_for_deadtime\n",
    "from stingray import Powerspectrum, Crossspectrum, AveragedPowerspectrum, AveragedCrossspectrum\n",
    "\n",
    "from astropy.modeling.models import Lorentz1D, Const1D\n",
    "import numpy as np\n",
    "import scipy.stats\n",
    "import scipy.special\n",
    "import scipy.fftpack\n",
    "from scipy.interpolate import interp1d\n",
    "from stingray.utils import rebin_data_log\n",
    "from stingray.gti import bin_intervals_from_gtis\n",
    "from hendrics.base import r_in, r_det\n",
    "from stingray.modeling.posterior import GaussianLogLikelihood\n",
    "from stingray.modeling.parameterestimation import ParameterEstimation\n",
    "import os\n",
    "import glob\n",
    "\n",
    "from stingray.utils import rebin_data\n",
    "\n",
    "np.random.seed(348172694)\n",
    "\n",
    "from stingray import Lightcurve, Crossspectrum\n",
    "from stingray.simulator.simulator import Simulator\n",
    "from scipy.ndimage.filters import gaussian_filter1d"
   ]
  },
  {
   "cell_type": "markdown",
   "metadata": {
    "collapsed": true
   },
   "source": [
    "## What about different fluxes?"
   ]
  },
  {
   "cell_type": "code",
   "execution_count": 3,
   "metadata": {
    "collapsed": true
   },
   "outputs": [],
   "source": [
    "from hendrics.io import load_events, load_lcurve, load_pds, save_lcurve, save_pds\n",
    "from stingray.gti import cross_two_gtis\n",
    "from stingray import Powerspectrum, Crossspectrum, AveragedPowerspectrum, AveragedCrossspectrum"
   ]
  },
  {
   "cell_type": "code",
   "execution_count": 4,
   "metadata": {
    "collapsed": true
   },
   "outputs": [],
   "source": [
    "from astropy.modeling.models import Lorentz1D\n",
    "from stingray.events import EventList\n",
    "\n",
    "def create_flat_lightcurve(tstart=0, tstop=8192, dt=1/512, \n",
    "                            mean_ctrate=200, rms=0.25): \n",
    "\n",
    "    time = np.arange(tstart, tstop, dt)\n",
    "\n",
    "    # The current normalization is not precise for very high count rates!\n",
    "    sim_lc_clean = Lightcurve(time, mean_ctrate + np.zeros_like(time))\n",
    "    \n",
    "    sim_lc_clean.counts *= dt\n",
    "\n",
    "    return sim_lc_clean\n"
   ]
  },
  {
   "cell_type": "code",
   "execution_count": 5,
   "metadata": {
    "collapsed": true
   },
   "outputs": [],
   "source": [
    "def create_event_lists_from_lightcurve(lc_in, channel_ratio=1):\n",
    "    # work on a copy, not on the original light curve\n",
    "    lc = copy.deepcopy(lc_in)\n",
    "    events = EventList()\n",
    "    events.simulate_times(lc)\n",
    "    event_times1 = events.time\n",
    "\n",
    "    lc.counts *= channel_ratio\n",
    "    events.simulate_times(lc)\n",
    "    event_times2 = events.time\n",
    "    return event_times1, event_times2\n",
    "\n",
    "def create_lightcurve_with_deadtime(event_times, dt, tstart=0, tstop=8192, \n",
    "                                    deadtime=2.5e-3):\n",
    "    gti = [[tstart, tstop]]\n",
    "    lc_clean = Lightcurve.make_lightcurve(event_times, \n",
    "                                          gti=gti, \n",
    "                                          tstart=tstart, tseg=tstop - tstart,\n",
    "                                          dt=dt)\n",
    "    events_dt = filter_for_deadtime(event_times, deadtime)\n",
    "    lc = Lightcurve.make_lightcurve(events_dt, \n",
    "                                    gti=gti, \n",
    "                                    tstart=tstart, tseg=tstop - tstart,\n",
    "                                    dt=dt)\n",
    "    return lc_clean, lc\n",
    "\n",
    "   \n",
    "def create_lightcurves_with_deadtime(lc_in, channel_ratio=1, \n",
    "                                     lc_dt=1/2048, deadtime=2.5e-3):\n",
    "    \n",
    "    event_times1, event_times2 = \\\n",
    "        create_event_lists_from_lightcurve(lc_in, channel_ratio=channel_ratio)\n",
    "\n",
    "    lc1_clean, lc1 = \\\n",
    "        create_lightcurve_with_deadtime(event_times1, lc_dt, \n",
    "                                        tstart=lc_in.tstart, \n",
    "                                        tstop=lc_in.tseg - lc_in.tstart,\n",
    "                                        deadtime=deadtime)\n",
    "    lc2_clean, lc2 = \\\n",
    "        create_lightcurve_with_deadtime(event_times2, lc_dt, \n",
    "                                        tstart=lc_in.tstart, \n",
    "                                        tstop=lc_in.tseg - lc_in.tstart,\n",
    "                                        deadtime=deadtime)\n",
    "\n",
    "    return lc1_clean, lc1, lc2_clean, lc2\n",
    "\n",
    "def calculate_and_save_freq_spectrum(lc1, lc2=None, segment_size=512, \n",
    "                                     file_name=None, norm='frac'):\n",
    "    if lc2 is None:\n",
    "        pds = AveragedPowerspectrum(lc1, segment_size=segment_size, \n",
    "                                    norm=norm)\n",
    "        if file_name is None:\n",
    "            file_name = 'pds.nc'\n",
    "    else:\n",
    "        pds = AveragedCrossspectrum(lc1, lc2, \n",
    "                                    segment_size=segment_size, \n",
    "                                    norm=norm)\n",
    "        if file_name is None:\n",
    "            file_name = 'cpds.nc'\n",
    "\n",
    "#     print('Saving ' + file_name)\n",
    "    save_pds(pds, file_name, save_all=False)\n",
    "\n",
    "    return file_name\n",
    "\n",
    "def modify_saved_power(in_file_name, new_power, meancounts=None, \n",
    "                       out_file_name=None):\n",
    "    \n",
    "    if out_file_name is None:\n",
    "        out_file_name = in_file_name.replace('.nc', '_out.nc')\n",
    "    newpow = load_pds(in_file_name)\n",
    "\n",
    "    newpow.norm = 'none'\n",
    "    newpow.power = new_power\n",
    "    if meancounts is not None:\n",
    "        newpow.power = newpow.power / newpow.n**2 \n",
    "        newpow.power = newpow.power * 2 * newpow.segment_size / meancounts **2\n",
    "\n",
    "#     print('Saving ' + out_file_name)\n",
    "    save_pds(newpow, out_file_name)\n"
   ]
  },
  {
   "cell_type": "code",
   "execution_count": 6,
   "metadata": {
    "collapsed": true
   },
   "outputs": [],
   "source": [
    "def calculate_fad_and_save_all_spectra(lc1, lc2, file_label='all_',\n",
    "                                       segment_size=512, \n",
    "                                       smoothing_alg='gauss', \n",
    "                                       smoothing_length=None):\n",
    "    from fad_correction import FAD_power_spectra\n",
    "\n",
    "    freqs, pds1_norm, pds2_norm, crosssp_norm, ptot_norm = \\\n",
    "        FAD_power_spectra(lc1, lc2, segment_size=segment_size, smoothing_alg=smoothing_alg, \n",
    "                          smoothing_length=smoothing_length)\n",
    "\n",
    "#     print('Fourier Amplitudes loaded')\n",
    "    calculate_and_save_freq_spectrum(lc1, segment_size=segment_size, \n",
    "                                     file_name=file_label + 'pds1_dt.nc')\n",
    "    calculate_and_save_freq_spectrum(lc2, segment_size=segment_size, \n",
    "                                     file_name=file_label + 'pds2_dt.nc')\n",
    "    modify_saved_power(file_label + 'pds1_dt.nc', ptot_norm, lc1.meancounts + lc2.meancounts, \n",
    "                       out_file_name=file_label + 'pdstot_norm.nc')\n",
    "    modify_saved_power(file_label + 'pds1_dt.nc', pds1_norm, lc1.meancounts, \n",
    "                       out_file_name=file_label + 'pds1_norm.nc')\n",
    "    calculate_and_save_freq_spectrum(lc1, lc2, segment_size=segment_size, \n",
    "                                     file_name=file_label + 'cs_dt.nc')\n",
    "    modify_saved_power(file_label + 'pds1_dt.nc', crosssp_norm, (lc1.meancounts + lc2.meancounts) / 2, \n",
    "                       out_file_name=file_label + 'cs_norm.nc')"
   ]
  },
  {
   "cell_type": "code",
   "execution_count": 7,
   "metadata": {
    "collapsed": true
   },
   "outputs": [],
   "source": [
    "def load_rebinned(file, rebin_factor, kind='lin'):\n",
    "    periodogram = load_pds(file)\n",
    "    if kind == 'lin' and isinstance(rebin_factor, int):\n",
    "        return periodogram.rebin(f=rebin_factor)\n",
    "    elif kind == 'lin':\n",
    "        return periodogram.rebin(df=rebin_factor)\n",
    "    else:\n",
    "        return periodogram.rebin_log(rebin_factor)\n",
    "    "
   ]
  },
  {
   "cell_type": "code",
   "execution_count": 15,
   "metadata": {
    "collapsed": true
   },
   "outputs": [],
   "source": [
    "def simulate_flat_spectrum(channel_ratio=1, rebin_factor=0.02, segment_size=512,\n",
    "                      label=None, tstart = 0, tstop = 8192, smoothing_alg='gauss',\n",
    "                      smoothing_length=None, rms=0.25, mean_ctrate=200):\n",
    "    \n",
    "\n",
    "    sim_lc = create_flat_lightcurve(tstart, tstop, rms=rms,\n",
    "                                     mean_ctrate=mean_ctrate)\n",
    "    lc1_clean, lc1, lc2_clean, lc2 = \\\n",
    "        create_lightcurves_with_deadtime(sim_lc, \n",
    "                                         channel_ratio=channel_ratio, \n",
    "                                         lc_dt=1/2048, deadtime=2.5e-3)\n",
    "    if label is None:\n",
    "        label = '{:.2f}_flat'.format(channel_ratio * 100)\n",
    "    calculate_and_save_freq_spectrum(lc1_clean, segment_size=segment_size, \n",
    "                                     file_name=label + 'pds1_clean.nc')\n",
    "\n",
    "    calculate_and_save_freq_spectrum(lc1_clean, lc2_clean, segment_size=segment_size, \n",
    "                                     file_name=label + 'cs_clean.nc')\n",
    "    \n",
    "    calculate_fad_and_save_all_spectra(lc1, lc2, file_label=label, \n",
    "                                       segment_size=segment_size,\n",
    "                                       smoothing_alg=smoothing_alg, \n",
    "                                       smoothing_length=smoothing_length)\n",
    "    return label\n"
   ]
  },
  {
   "cell_type": "code",
   "execution_count": 16,
   "metadata": {},
   "outputs": [],
   "source": [
    "label = simulate_flat_spectrum(tstop=1024, segment_size=512, smoothing_alg='gauss')"
   ]
  },
  {
   "cell_type": "code",
   "execution_count": 17,
   "metadata": {
    "collapsed": true
   },
   "outputs": [],
   "source": [
    "def plot_spectrum(file_label, rebin_factor=0.02, step=0.,\n",
    "                  white_fmin=0, white_fmax=2048, xlim=None, ylim=None):\n",
    "    cs_dt_reb = load_rebinned(file_label + 'cs_dt.nc', rebin_factor)\n",
    "    cs_norm_reb = load_rebinned(file_label + 'cs_norm.nc', rebin_factor)\n",
    "    pds_norm_reb = load_rebinned(file_label + 'pds1_norm.nc', rebin_factor)\n",
    "    pdstot_norm_reb = load_rebinned(file_label + 'pdstot_norm.nc', rebin_factor)\n",
    "    pds1_dt_reb = load_rebinned(file_label + 'pds1_dt.nc', rebin_factor)\n",
    "    \n",
    "    lw=2\n",
    "    good = (pds1_dt_reb.freq >= white_fmin)&(pds1_dt_reb.freq < white_fmax)\n",
    "    fig = plt.figure()\n",
    "    plt.plot(pds1_dt_reb.freq, pds1_dt_reb.power - np.mean(pds1_dt_reb.power[good]), \n",
    "             label='PDS 1', drawstyle='steps-mid', zorder=10, lw=lw)\n",
    "    plt.plot(pds_norm_reb.freq, pds_norm_reb.power - np.mean(pds_norm_reb.power[good]) + step, \n",
    "             label='PDS 1, FAD-normalized', drawstyle='steps-mid', lw=lw, color='r')\n",
    "    plt.plot(pdstot_norm_reb.freq, pdstot_norm_reb.power - np.mean(pdstot_norm_reb.power[good]) + 2*step, \n",
    "             label='PDS 1+2, FAD-normalized', drawstyle='steps-mid', lw=lw, color='b')\n",
    "    plt.plot(cs_dt_reb.freq, cs_dt_reb.power + 3 * step, \n",
    "             label='Cospectrum', drawstyle='steps-mid', lw=lw, color='grey')\n",
    "    plt.plot(cs_norm_reb.freq, cs_norm_reb.power + 4 * step, \n",
    "             label='Cospectrum, FAD-normalized', drawstyle='steps-mid', lw=lw, color='k')\n",
    "    plt.legend(loc=1)\n",
    "\n",
    "    if step > 0:\n",
    "        for i in range(4):\n",
    "            plt.axhline(step * i, ls = '--', color='k', zorder=20)\n",
    "\n",
    "    plt.xlim(xlim)\n",
    "    plt.xlabel('Frequency (Hz)')\n",
    "    plt.ylabel(r'${(\\rm rms/mean)}^2\\nu^{-1}$')\n",
    "\n",
    "    plt.savefig(file_label + 'rebin.jpg')\n",
    "    plt.close(fig)\n",
    "\n",
    "def plot_spectrum_log(file_label, rebin_factor=0.02, step=0.,\n",
    "                      white_fmin=0, white_fmax=2048, xlim=None, ylim=None):\n",
    "    cs_dt_reb_log = load_rebinned(file_label + 'cs_dt.nc', rebin_factor, kind='log')\n",
    "    cs_norm_reb_log = load_rebinned(file_label + 'cs_norm.nc', rebin_factor, kind='log')\n",
    "    pds_norm_reb_log = load_rebinned(file_label + 'pds1_norm.nc', rebin_factor, kind='log')\n",
    "    pdstot_norm_reb_log = load_rebinned(file_label + 'pdstot_norm.nc', rebin_factor, kind='log')\n",
    "    pds1_dt_reb_log = load_rebinned(file_label + 'pds1_dt.nc', rebin_factor, kind='log')\n",
    "    lw=2\n",
    "    fig, ax1 = plt.subplots()\n",
    "\n",
    "    ax1.plot(cs_dt_reb_log.freq, cs_dt_reb_log.freq*cs_dt_reb_log.power, \n",
    "             label='Cospectrum', \n",
    "             lw=lw, drawstyle='steps-mid', color='grey', zorder=3)\n",
    "\n",
    "    ax1.plot(cs_norm_reb_log.freq, cs_norm_reb_log.freq*cs_norm_reb_log.power, \n",
    "             label='Cospectrum, FAD-normalized', \n",
    "             lw=lw, drawstyle='steps-mid', color='k')\n",
    "\n",
    "    good = (pds1_dt_reb_log.freq >= white_fmin)&(pds1_dt_reb_log.freq < white_fmax)\n",
    "\n",
    "    lev = np.mean(pds_norm_reb_log.power.real[good])\n",
    "    ax1.plot(pds_norm_reb_log.freq,\n",
    "             pds_norm_reb_log.freq*(pds_norm_reb_log.power - lev), \n",
    "             alpha=0.6, label='PDS 1, FAD-normalized', \n",
    "             lw=lw, drawstyle='steps-mid', color='r')\n",
    "\n",
    "    lev = np.mean(pdstot_norm_reb_log.power.real[good])\n",
    "    ax1.plot(pdstot_norm_reb_log.freq, \n",
    "             pdstot_norm_reb_log.freq*(pdstot_norm_reb_log.power - lev), \n",
    "             alpha=0.6, label='PDS 1, FAD-normalized', \n",
    "             lw=lw, drawstyle='steps-mid', color='b')\n",
    "\n",
    "    ax1.legend()\n",
    "    ax1.set_yscale('log', nonposy='clip')\n",
    "\n",
    "    ax1.set_xscale('log', nonposx='clip')\n",
    "\n",
    "    ax1.set_xlim(xlim)\n",
    "    ax1.set_ylim(ylim)\n",
    "\n",
    "    ax1.set_xlabel('Frequency (Hz)')\n",
    "    ax1.set_ylabel(r'${(\\rm rms/mean)}^2$')\n",
    "\n",
    "    plt.savefig(file_label + 'rebin_log.jpg')\n",
    "    plt.close(fig)"
   ]
  },
  {
   "cell_type": "code",
   "execution_count": 20,
   "metadata": {
    "collapsed": true
   },
   "outputs": [],
   "source": [
    "plot_spectrum('100.00_flat', rebin_factor=1, step=0., xlim=None, ylim=None)"
   ]
  },
  {
   "cell_type": "markdown",
   "metadata": {
    "collapsed": true
   },
   "source": [
    "## And now, some statistics.\n",
    "\n",
    "### TODO: Reliably normalize spectra in Leahy normalization and evaluate distribution with chi squared and Laplace."
   ]
  },
  {
   "cell_type": "code",
   "execution_count": null,
   "metadata": {
    "collapsed": true
   },
   "outputs": [],
   "source": []
  }
 ],
 "metadata": {
  "kernelspec": {
   "display_name": "Python 3",
   "language": "python",
   "name": "python3"
  },
  "language_info": {
   "codemirror_mode": {
    "name": "ipython",
    "version": 3
   },
   "file_extension": ".py",
   "mimetype": "text/x-python",
   "name": "python",
   "nbconvert_exporter": "python",
   "pygments_lexer": "ipython3",
   "version": "3.6.1"
  }
 },
 "nbformat": 4,
 "nbformat_minor": 2
}
