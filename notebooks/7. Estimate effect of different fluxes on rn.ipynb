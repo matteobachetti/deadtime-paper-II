{
 "cells": [
  {
   "cell_type": "code",
   "execution_count": 1,
   "metadata": {
    "collapsed": true
   },
   "outputs": [],
   "source": [
    "%load_ext autoreload\n",
    "%autoreload 2\n",
    "%matplotlib inline\n",
    "import matplotlib.pyplot as plt\n",
    "import seaborn as sns\n",
    "from matplotlib.gridspec import GridSpec\n",
    "\n",
    "sns.set_context('talk')\n",
    "sns.set_style(\"whitegrid\")\n",
    "sns.set_palette(\"colorblind\")\n",
    "\n",
    "import copy\n",
    "from hendrics.fake import filter_for_deadtime\n",
    "from stingray import Powerspectrum, Crossspectrum, AveragedPowerspectrum, AveragedCrossspectrum\n",
    "\n",
    "from astropy.modeling.models import Lorentz1D, Const1D\n",
    "import numpy as np\n",
    "import scipy.stats\n",
    "import scipy.special\n",
    "import scipy.fftpack\n",
    "from scipy.interpolate import interp1d\n",
    "from stingray.utils import rebin_data_log\n",
    "from stingray.gti import bin_intervals_from_gtis\n",
    "from hendrics.base import r_in, r_det\n",
    "from stingray.modeling.posterior import GaussianLogLikelihood\n",
    "from stingray.modeling.parameterestimation import ParameterEstimation\n",
    "import os\n",
    "import glob\n",
    "\n",
    "from stingray.utils import rebin_data\n",
    "\n",
    "np.random.seed(348172694)\n",
    "\n",
    "from stingray import Lightcurve, Crossspectrum\n",
    "from stingray.simulator.simulator import Simulator\n",
    "from scipy.ndimage.filters import gaussian_filter1d"
   ]
  },
  {
   "cell_type": "markdown",
   "metadata": {
    "collapsed": true
   },
   "source": [
    "## What about different fluxes?"
   ]
  },
  {
   "cell_type": "code",
   "execution_count": 2,
   "metadata": {
    "collapsed": true
   },
   "outputs": [],
   "source": [
    "from hendrics.io import load_events, load_lcurve, load_pds, save_lcurve, save_pds\n",
    "from stingray.gti import cross_two_gtis\n",
    "from stingray import Powerspectrum, Crossspectrum, AveragedPowerspectrum, AveragedCrossspectrum"
   ]
  },
  {
   "cell_type": "code",
   "execution_count": 3,
   "metadata": {},
   "outputs": [
    {
     "data": {
      "text/plain": [
       "[<matplotlib.lines.Line2D at 0x11060fe48>]"
      ]
     },
     "execution_count": 3,
     "metadata": {},
     "output_type": "execute_result"
    },
    {
     "data": {
      "image/png": "[encoded data removed]",
      "text/plain": [
       "<matplotlib.figure.Figure at 0x10fcc5e10>"
      ]
     },
     "metadata": {},
     "output_type": "display_data"
    }
   ],
   "source": [
    "model = Lorentz1D(x_0=0, fwhm=1, amplitude=1000) + \\\n",
    "        Lorentz1D(x_0=30, fwhm=30, amplitude=20)\n",
    "\n",
    "freqs = np.logspace(-3, 4, 1000)\n",
    "plt.figure()\n",
    "plt.loglog(freqs, model(freqs) * freqs)"
   ]
  },
  {
   "cell_type": "code",
   "execution_count": 4,
   "metadata": {
    "collapsed": true
   },
   "outputs": [],
   "source": [
    "from astropy.modeling.models import Lorentz1D\n",
    "from stingray.events import EventList\n",
    "\n",
    "def create_model_lightcurve(model, tstart=0, tstop=8192, dt=1/512, \n",
    "                            mean_ctrate=200, rms=0.25): \n",
    "\n",
    "    time = np.arange(tstart, tstop, dt)\n",
    "\n",
    "    # The current normalization is not precise for very high count rates!\n",
    "    sim = Simulator(N=len(time), dt=dt, rms=1, \n",
    "                    mean=10000, red_noise=3)\n",
    "    sim_lc_clean = sim.simulate(model)\n",
    "\n",
    "    # Correct normalization\n",
    "    sim_lc_clean.counts -= np.mean(sim_lc_clean.counts)\n",
    "    factor = rms / np.std(sim_lc_clean.counts)\n",
    "    sim_lc_clean.counts *= factor\n",
    "    sim_lc_clean.counts += 1\n",
    "    sim_lc_clean.counts *= mean_ctrate\n",
    "    \n",
    "    sim_lc_clean.counts *= dt\n",
    "\n",
    "    return sim_lc_clean\n"
   ]
  },
  {
   "cell_type": "code",
   "execution_count": 5,
   "metadata": {
    "collapsed": true
   },
   "outputs": [],
   "source": [
    "def create_event_lists_from_lightcurve(lc_in, channel_ratio=1):\n",
    "    # work on a copy, not on the original light curve\n",
    "    lc = copy.deepcopy(lc_in)\n",
    "    events = EventList()\n",
    "    events.simulate_times(lc)\n",
    "    event_times1 = events.time\n",
    "\n",
    "    lc.counts *= channel_ratio\n",
    "    events.simulate_times(lc)\n",
    "    event_times2 = events.time\n",
    "    return event_times1, event_times2\n",
    "\n",
    "def create_lightcurve_with_deadtime(event_times, dt, tstart=0, tstop=8192, \n",
    "                                    deadtime=2.5e-3):\n",
    "    gti = [[tstart, tstop]]\n",
    "    lc_clean = Lightcurve.make_lightcurve(event_times, \n",
    "                                          gti=gti, \n",
    "                                          tstart=tstart, tseg=tstop - tstart,\n",
    "                                          dt=dt)\n",
    "    events_dt = filter_for_deadtime(event_times, deadtime)\n",
    "    lc = Lightcurve.make_lightcurve(events_dt, \n",
    "                                    gti=gti, \n",
    "                                    tstart=tstart, tseg=tstop - tstart,\n",
    "                                    dt=dt)\n",
    "    return lc_clean, lc\n",
    "\n",
    "   \n",
    "def create_lightcurves_with_deadtime(lc_in, channel_ratio=1, \n",
    "                                     lc_dt=1/2048, deadtime=2.5e-3):\n",
    "    \n",
    "    event_times1, event_times2 = \\\n",
    "        create_event_lists_from_lightcurve(lc_in, channel_ratio=channel_ratio)\n",
    "\n",
    "    lc1_clean, lc1 = \\\n",
    "        create_lightcurve_with_deadtime(event_times1, lc_dt, \n",
    "                                        tstart=lc_in.tstart, \n",
    "                                        tstop=lc_in.tseg - lc_in.tstart,\n",
    "                                        deadtime=deadtime)\n",
    "    lc2_clean, lc2 = \\\n",
    "        create_lightcurve_with_deadtime(event_times2, lc_dt, \n",
    "                                        tstart=lc_in.tstart, \n",
    "                                        tstop=lc_in.tseg - lc_in.tstart,\n",
    "                                        deadtime=deadtime)\n",
    "\n",
    "    return lc1_clean, lc1, lc2_clean, lc2\n",
    "\n",
    "def calculate_and_save_freq_spectrum(lc1, lc2=None, segment_size=512, \n",
    "                                     file_name=None, norm='frac'):\n",
    "    if lc2 is None:\n",
    "        pds = AveragedPowerspectrum(lc1, segment_size=segment_size, \n",
    "                                    norm=norm)\n",
    "        if file_name is None:\n",
    "            file_name = 'pds.nc'\n",
    "    else:\n",
    "        pds = AveragedCrossspectrum(lc1, lc2, \n",
    "                                    segment_size=segment_size, \n",
    "                                    norm=norm)\n",
    "        if file_name is None:\n",
    "            file_name = 'cpds.nc'\n",
    "\n",
    "#     print('Saving ' + file_name)\n",
    "    save_pds(pds, file_name, save_all=False)\n",
    "\n",
    "    return file_name\n",
    "\n",
    "def modify_saved_power(in_file_name, new_power, meancounts=None, \n",
    "                       out_file_name=None):\n",
    "    \n",
    "    if out_file_name is None:\n",
    "        out_file_name = in_file_name.replace('.nc', '_out.nc')\n",
    "    newpow = load_pds(in_file_name)\n",
    "\n",
    "    newpow.norm = 'none'\n",
    "    newpow.power = new_power\n",
    "    if meancounts is not None:\n",
    "        newpow.power = newpow.power / newpow.n**2 \n",
    "        newpow.power = newpow.power * 2 * newpow.segment_size / meancounts **2\n",
    "\n",
    "#     print('Saving ' + out_file_name)\n",
    "    save_pds(newpow, out_file_name)\n"
   ]
  },
  {
   "cell_type": "code",
   "execution_count": 6,
   "metadata": {
    "collapsed": true
   },
   "outputs": [],
   "source": [
    "def calculate_fad_and_save_all_spectra(lc1, lc2, file_label='all_',\n",
    "                                       segment_size=512, \n",
    "                                       smoothing_alg='gauss', \n",
    "                                       smoothing_length=None):\n",
    "    from fad_correction import FAD_power_spectra\n",
    "\n",
    "    freqs, pds1_norm, pds2_norm, crosssp_norm, ptot_norm = \\\n",
    "        FAD_power_spectra(lc1, lc2, segment_size=segment_size, smoothing_alg=smoothing_alg, \n",
    "                          smoothing_length=smoothing_length)\n",
    "\n",
    "#     print('Fourier Amplitudes loaded')\n",
    "    calculate_and_save_freq_spectrum(lc1, segment_size=segment_size, \n",
    "                                     file_name=file_label + 'pds1_dt.nc')\n",
    "    calculate_and_save_freq_spectrum(lc2, segment_size=segment_size, \n",
    "                                     file_name=file_label + 'pds2_dt.nc')\n",
    "    modify_saved_power(file_label + 'pds1_dt.nc', ptot_norm, lc1.meancounts + lc2.meancounts, \n",
    "                       out_file_name=file_label + 'pdstot_norm.nc')\n",
    "    modify_saved_power(file_label + 'pds1_dt.nc', pds1_norm, lc1.meancounts, \n",
    "                       out_file_name=file_label + 'pds1_norm.nc')\n",
    "    calculate_and_save_freq_spectrum(lc1, lc2, segment_size=segment_size, \n",
    "                                     file_name=file_label + 'cs_dt.nc')\n",
    "    modify_saved_power(file_label + 'pds1_dt.nc', crosssp_norm, (lc1.meancounts + lc2.meancounts) / 2, \n",
    "                       out_file_name=file_label + 'cs_norm.nc')"
   ]
  },
  {
   "cell_type": "code",
   "execution_count": 7,
   "metadata": {
    "collapsed": true
   },
   "outputs": [],
   "source": [
    "def load_rebinned(file, rebin_factor, kind='lin'):\n",
    "    periodogram = load_pds(file)\n",
    "    if kind == 'lin' and isinstance(rebin_factor, int):\n",
    "        return periodogram.rebin(f=rebin_factor)\n",
    "    elif kind == 'lin':\n",
    "        return periodogram.rebin(df=rebin_factor)\n",
    "    else:\n",
    "        return periodogram.rebin_log(rebin_factor)\n",
    "    "
   ]
  },
  {
   "cell_type": "code",
   "execution_count": 8,
   "metadata": {
    "collapsed": true
   },
   "outputs": [],
   "source": [
    "def simulate_spectrum(model, channel_ratio=1, rebin_factor=0.02, segment_size=512,\n",
    "                      label=None, tstart = 0, tstop = 8192, smoothing_alg='gauss',\n",
    "                      smoothing_length=None, rms=0.25, mean_ctrate=200):\n",
    "    \n",
    "\n",
    "    sim_lc = create_model_lightcurve(model, tstart, tstop, rms=rms,\n",
    "                                     mean_ctrate=mean_ctrate)\n",
    "    lc1_clean, lc1, lc2_clean, lc2 = \\\n",
    "        create_lightcurves_with_deadtime(sim_lc, \n",
    "                                         channel_ratio=channel_ratio, \n",
    "                                         lc_dt=1/2048, deadtime=2.5e-3)\n",
    "    if label is None:\n",
    "        label = '{:.2f}'.format(channel_ratio * 100)\n",
    "    calculate_and_save_freq_spectrum(lc1_clean, segment_size=segment_size, \n",
    "                                     file_name=label + 'pds1_clean.nc')\n",
    "\n",
    "    calculate_and_save_freq_spectrum(lc1_clean, lc2_clean, segment_size=segment_size, \n",
    "                                     file_name=label + 'cs_clean.nc')\n",
    "    \n",
    "    calculate_fad_and_save_all_spectra(lc1, lc2, file_label=label, \n",
    "                                       segment_size=segment_size,\n",
    "                                       smoothing_alg=smoothing_alg, \n",
    "                                       smoothing_length=smoothing_length)\n",
    "    return label\n"
   ]
  },
  {
   "cell_type": "code",
   "execution_count": 9,
   "metadata": {
    "collapsed": true
   },
   "outputs": [],
   "source": [
    "label = simulate_spectrum(model, tstop=1024, segment_size=512, smoothing_alg='gauss')"
   ]
  },
  {
   "cell_type": "code",
   "execution_count": 10,
   "metadata": {
    "collapsed": true
   },
   "outputs": [],
   "source": [
    "def plot_spectrum(file_label, rebin_factor=0.02, step=0.,\n",
    "                  white_fmin=0, white_fmax=2048, xlim=None, ylim=None):\n",
    "    cs_dt_reb = load_rebinned(file_label + 'cs_dt.nc', rebin_factor)\n",
    "    cs_norm_reb = load_rebinned(file_label + 'cs_norm.nc', rebin_factor)\n",
    "    pds_norm_reb = load_rebinned(file_label + 'pds1_norm.nc', rebin_factor)\n",
    "    pdstot_norm_reb = load_rebinned(file_label + 'pdstot_norm.nc', rebin_factor)\n",
    "    pds1_dt_reb = load_rebinned(file_label + 'pds1_dt.nc', rebin_factor)\n",
    "    \n",
    "    lw=2\n",
    "    good = (pds1_dt_reb.freq >= white_fmin)&(pds1_dt_reb.freq < white_fmax)\n",
    "    fig = plt.figure()\n",
    "    plt.plot(pds1_dt_reb.freq, pds1_dt_reb.power - np.mean(pds1_dt_reb.power[good]), \n",
    "             label='PDS 1', drawstyle='steps-mid', zorder=10, lw=lw)\n",
    "    plt.plot(pds_norm_reb.freq, pds_norm_reb.power - np.mean(pds_norm_reb.power[good]) + step, \n",
    "             label='PDS 1, FAD-normalized', drawstyle='steps-mid', lw=lw, color='r')\n",
    "    plt.plot(pdstot_norm_reb.freq, pdstot_norm_reb.power - np.mean(pdstot_norm_reb.power[good]) + 2*step, \n",
    "             label='PDS 1+2, FAD-normalized', drawstyle='steps-mid', lw=lw, color='b')\n",
    "    plt.plot(cs_dt_reb.freq, cs_dt_reb.power + 3 * step, \n",
    "             label='Cospectrum', drawstyle='steps-mid', lw=lw, color='grey')\n",
    "    plt.plot(cs_norm_reb.freq, cs_norm_reb.power + 4 * step, \n",
    "             label='Cospectrum, FAD-normalized', drawstyle='steps-mid', lw=lw, color='k')\n",
    "    plt.legend(loc=1)\n",
    "\n",
    "    if step > 0:\n",
    "        for i in range(4):\n",
    "            plt.axhline(step * i, ls = '--', color='k', zorder=20)\n",
    "\n",
    "    plt.xlim(xlim)\n",
    "    plt.xlabel('Frequency (Hz)')\n",
    "    plt.ylabel(r'${(\\rm rms/mean)}^2\\nu^{-1}$')\n",
    "\n",
    "    plt.savefig(file_label + 'rebin.jpg')\n",
    "    plt.close(fig)\n",
    "\n",
    "def plot_spectrum_log(file_label, rebin_factor=0.02, step=0.,\n",
    "                      white_fmin=0, white_fmax=2048, xlim=None, ylim=None):\n",
    "    cs_dt_reb_log = load_rebinned(file_label + 'cs_dt.nc', rebin_factor, kind='log')\n",
    "    cs_norm_reb_log = load_rebinned(file_label + 'cs_norm.nc', rebin_factor, kind='log')\n",
    "    pds_norm_reb_log = load_rebinned(file_label + 'pds1_norm.nc', rebin_factor, kind='log')\n",
    "    pdstot_norm_reb_log = load_rebinned(file_label + 'pdstot_norm.nc', rebin_factor, kind='log')\n",
    "    pds1_dt_reb_log = load_rebinned(file_label + 'pds1_dt.nc', rebin_factor, kind='log')\n",
    "    lw=2\n",
    "    fig, ax1 = plt.subplots()\n",
    "\n",
    "    ax1.plot(cs_dt_reb_log.freq, cs_dt_reb_log.freq*cs_dt_reb_log.power, \n",
    "             label='Cospectrum', \n",
    "             lw=lw, drawstyle='steps-mid', color='grey', zorder=3)\n",
    "\n",
    "    ax1.plot(cs_norm_reb_log.freq, cs_norm_reb_log.freq*cs_norm_reb_log.power, \n",
    "             label='Cospectrum, FAD-normalized', \n",
    "             lw=lw, drawstyle='steps-mid', color='k')\n",
    "\n",
    "    good = (pds1_dt_reb_log.freq >= white_fmin)&(pds1_dt_reb_log.freq < white_fmax)\n",
    "\n",
    "    lev = np.mean(pds_norm_reb_log.power.real[good])\n",
    "    ax1.plot(pds_norm_reb_log.freq,\n",
    "             pds_norm_reb_log.freq*(pds_norm_reb_log.power - lev), \n",
    "             alpha=0.6, label='PDS 1, FAD-normalized', \n",
    "             lw=lw, drawstyle='steps-mid', color='r')\n",
    "\n",
    "    lev = np.mean(pdstot_norm_reb_log.power.real[good])\n",
    "    ax1.plot(pdstot_norm_reb_log.freq, \n",
    "             pdstot_norm_reb_log.freq*(pdstot_norm_reb_log.power - lev), \n",
    "             alpha=0.6, label='PDS 1, FAD-normalized', \n",
    "             lw=lw, drawstyle='steps-mid', color='b')\n",
    "\n",
    "    ax1.legend()\n",
    "    ax1.set_yscale('log', nonposy='clip')\n",
    "\n",
    "    ax1.set_xscale('log', nonposx='clip')\n",
    "\n",
    "    ax1.set_xlim(xlim)\n",
    "    ax1.set_ylim(ylim)\n",
    "\n",
    "    ax1.set_xlabel('Frequency (Hz)')\n",
    "    ax1.set_ylabel(r'${(\\rm rms/mean)}^2$')\n",
    "\n",
    "    plt.savefig(file_label + 'rebin_log.jpg')\n",
    "    plt.close(fig)"
   ]
  },
  {
   "cell_type": "code",
   "execution_count": 11,
   "metadata": {
    "collapsed": true
   },
   "outputs": [],
   "source": [
    "plot_spectrum_log('100.00', rebin_factor=0.02, step=0., xlim=None, ylim=None)"
   ]
  },
  {
   "cell_type": "code",
   "execution_count": 22,
   "metadata": {
    "collapsed": true
   },
   "outputs": [],
   "source": [
    "def model_amp(model):\n",
    "    amp1 = 0\n",
    "    for mo in model:\n",
    "        if 'x_0' not in mo.param_names:\n",
    "            continue\n",
    "        amp1 += mo.amplitude\n",
    "    return amp1\n",
    "    \n",
    "def model_ratio(model1, model2):\n",
    "    amp1 = model_amp(model1)\n",
    "    amp2 = model_amp(model2)\n",
    "    return amp1 / amp2\n",
    "\n",
    "def model_delta_rms(model1, model2):\n",
    "    amp1 = model_amp(model1)\n",
    "    amp2 = model_amp(model2)\n",
    "\n",
    "    return (amp1**0.5 - amp2**0.5) / amp2**0.5\n",
    "\n",
    "def fit_model_to_spectrum(filename, model, rebin_factor=0.02, label='PDS',\n",
    "                          fmin=0, fmax=2048, fig=None, color='k', lock_freqs=True):\n",
    "    \n",
    "    if lock_freqs:\n",
    "        for mo in model:\n",
    "            if 'x_0' not in mo.param_names:\n",
    "                continue\n",
    "            mo.x_0.fixed = True\n",
    "            mo.fwhm.fixed = True\n",
    "\n",
    "    spectrum = load_rebinned(filename, rebin_factor)\n",
    "    maxmodel = np.max(model(spectrum.freq))\n",
    "    maxspec = np.max(spectrum.power)\n",
    "    ratio = maxspec/maxmodel\n",
    "    for comp in model:\n",
    "        comp.amplitude *= ratio\n",
    "\n",
    "    good = (spectrum.freq < fmax)&(spectrum.freq >=fmin)\n",
    "\n",
    "    lpost = GaussianLogLikelihood(spectrum.freq[good], spectrum.power[good], \n",
    "                                  np.sqrt(2/spectrum.m), copy.deepcopy(model))\n",
    "\n",
    "    parest = ParameterEstimation()\n",
    "    free_parameters = [getattr(model, par).value \n",
    "                       for par in model.param_names if not model.fixed[par]]\n",
    "\n",
    "    res = parest.fit(lpost, free_parameters)\n",
    "    if fig is not None:\n",
    "        plot_fit_results(filename, res.model, label=label, fig=fig, color=color)\n",
    "    return parest, res\n",
    "    \n",
    "def plot_fit_results(file, model, label='PDS', rebin_factor=0.02, ylim=None,\n",
    "                     fig=None, color='k'):\n",
    "    spectrum_log = load_rebinned(file, rebin_factor, kind='log')\n",
    "    spectrum = load_rebinned(file, rebin_factor, kind='lin')\n",
    "    freqs = spectrum.freq\n",
    "    freqs_log = spectrum_log.freq\n",
    "    \n",
    "    offset = 0\n",
    "    # If last model is a constant, not a Lorentzian\n",
    "    if 'x_0' not in model[-1].param_names:\n",
    "        offset = model[-1].amplitude\n",
    "\n",
    "    powers = spectrum.power - offset\n",
    "    powers_log = spectrum_log.power - offset\n",
    "  \n",
    "    lw=2\n",
    "    closefig= False\n",
    "    if fig is None:\n",
    "        fig = plt.figure()\n",
    "        closefig = True\n",
    "    plt.plot(freqs, freqs*(model(freqs) - offset), color=color)\n",
    "    for mo in model:\n",
    "        if 'x_0' not in mo.param_names:\n",
    "            continue\n",
    "        plt.plot(freqs, freqs*mo(freqs), ls='--', color=color, lw=0.5)\n",
    "\n",
    "    plt.plot(freqs_log, freqs_log * powers_log, \n",
    "             label=label, drawstyle='steps-mid', \n",
    "             lw=lw, zorder=3, color=color)\n",
    "\n",
    "    plt.gca().set_yscale('log', nonposy='clip')\n",
    "    plt.gca().set_xscale('log', nonposx='clip')\n",
    "\n",
    "    plt.xlabel('Frequency (Hz)')\n",
    "    plt.ylabel(r'${(\\rm rms/mean)}^2$')\n",
    "    if ylim is None:\n",
    "        ylim = [1e-6, 0.5]\n",
    "    plt.ylim(ylim)\n",
    "    if closefig:\n",
    "        plt.savefig(file.replace('.nc', '.jpg'))\n",
    "        plt.close(fig)\n",
    "    \n",
    "def fit_model_to_all_data(file_label, model, rebin_factor=0.02, fmin=0, fmax=2048,\n",
    "                          plot=True, print_results=True, fit_ref='cs'):\n",
    "    from stingray.modeling import fit_powerspectrum\n",
    "    \n",
    "    model_cs = copy.deepcopy(model)\n",
    "    model_pds = copy.deepcopy(model) + Const1D(0)    \n",
    "    \n",
    "    if plot:\n",
    "        fig = plt.figure(file_label)\n",
    "    else:\n",
    "        fig = None\n",
    "\n",
    "    pds_clean_parest, pds_clean_res = \\\n",
    "        fit_model_to_spectrum(file_label + 'pds1_clean.nc', model_pds,\n",
    "                              label='Clean PDS 1', fig=fig, color='k',\n",
    "                              rebin_factor=rebin_factor, fmin=fmin, fmax=fmax)\n",
    "\n",
    "    cs_clean_parest, cs_clean_res = \\\n",
    "        fit_model_to_spectrum(file_label + 'cs_clean.nc', model_cs,\n",
    "                              label='Clean Cospectrum', fig=fig, color='#0000ff',\n",
    "                              rebin_factor=rebin_factor, fmin=fmin, fmax=fmax)\n",
    "        \n",
    "    if fit_ref == 'pds':\n",
    "        fit_ref_parest, fit_ref_res = pds_clean_parest, pds_clean_res\n",
    "    elif fit_ref == 'cs':\n",
    "        fit_ref_parest, fit_ref_res = cs_clean_parest, cs_clean_res\n",
    "\n",
    "    cs_dt_parest, cs_dt_res = \\\n",
    "        fit_model_to_spectrum(file_label + 'cs_dt.nc', model_cs,\n",
    "                              label='Cospectrum', fig=fig, \n",
    "                              color='#aaaaff',\n",
    "                              rebin_factor=rebin_factor, fmin=fmin, fmax=fmax)\n",
    "    cs_norm_parest, cs_norm_res = \\\n",
    "        fit_model_to_spectrum(file_label + 'cs_norm.nc', model_cs, \n",
    "                              label='FAD-normalized Cospectrum', fig=fig, \n",
    "                              color='#5555ff',\n",
    "                              rebin_factor=rebin_factor,fmin=fmin, fmax=fmax)\n",
    "    pds_norm_parest, pds_norm_res = \\\n",
    "        fit_model_to_spectrum(file_label + 'pds1_norm.nc', model_pds, \n",
    "                              label='FAD-normalized PDS 1', fig=fig, \n",
    "                              color='#aaaaaa',\n",
    "                              rebin_factor=rebin_factor, fmin=fmin, fmax=fmax)\n",
    "    pdstot_norm_parest, pdstot_norm_res = \\\n",
    "        fit_model_to_spectrum(file_label + 'pdstot_norm.nc', model_pds, \n",
    "                              label='FAD-normalized total PDS', fig=fig,\n",
    "                              color='#555555',\n",
    "                              rebin_factor=rebin_factor, fmin=fmin, fmax=fmax)\n",
    "    \n",
    "    spectrum = load_rebinned(file_label + 'pds1_clean.nc', rebin_factor)\n",
    "    meanrate_clean = spectrum.nphots/spectrum.segment_size\n",
    "    spectrum = load_rebinned(file_label + 'pds1_dt.nc', rebin_factor)\n",
    "    meanrate = spectrum.nphots/spectrum.segment_size\n",
    "\n",
    "    expected_gain = r_in(2.5e-3, meanrate)/meanrate\n",
    "    gain_cs = model_ratio(cs_norm_res.model, cs_dt_res.model)**0.5\n",
    "    \n",
    "    delta_cs = model_delta_rms(cs_norm_res.model, fit_ref_res.model)\n",
    "    delta_cs_clean = model_delta_rms(cs_clean_res.model, pds_clean_res.model)\n",
    "\n",
    "    gain_pds_norm = model_ratio(pds_norm_res.model, cs_dt_res.model)**0.5\n",
    "\n",
    "    delta_pds = model_delta_rms(pds_norm_res.model, fit_ref_res.model)\n",
    "\n",
    "    gain_pds_clean = model_ratio(pds_clean_res.model, cs_dt_res.model)**0.5\n",
    "\n",
    "\n",
    "    gain_pdstot_norm = model_ratio(pdstot_norm_res.model, cs_dt_res.model)**0.5\n",
    "    delta_pdstot = model_delta_rms(pdstot_norm_res.model, fit_ref_res.model)\n",
    "\n",
    "    if plot:\n",
    "        plt.legend()\n",
    "        plt.savefig(file_label + 'all_fit.jpg')\n",
    "    \n",
    "    if print_results:\n",
    "        print('Estimated:', meanrate, r_in(2.5e-3, meanrate), 'Ratio:', expected_gain)\n",
    "        print('Real: ', meanrate, meanrate_clean, 'Ratio:', meanrate_clean / meanrate)\n",
    "\n",
    "        print(\"Measured frac. rms from clean spectrum: {:.2f}%\".format(\n",
    "              model_amp(fit_ref_res.model)**0.5 * 100))\n",
    "\n",
    "        print(\"Measured frac. rms from fad-corrected cs: {:.2f}%\".format(\n",
    "              model_amp(cs_norm_res.model)**0.5 * 100))\n",
    "\n",
    "        print(\"Measured frac. rms from fad-corrected total pds: {:.2f}%\".format(\n",
    "              model_amp(pdstot_norm_res.model)**0.5 * 100))\n",
    "\n",
    "        print(\"Measured frac. rms from fad-corrected single pds: {:.2f}%\".format(\n",
    "              model_amp(pds_norm_res.model)**0.5 * 100))\n",
    "\n",
    "        print(\"Measured frac. rms from deadtime-affected cs: {:.2f}%\".format(\n",
    "              model_amp(cs_dt_res.model)**0.5 * 100))\n",
    "\n",
    "\n",
    "        print(\"rms gain expected from incident/detected \"\n",
    "              \"ratio: {:.2f}\".format(expected_gain))\n",
    "\n",
    "        print(\"rms gain cs_norm/cs_dt: \"\n",
    "              \"{:.2f} (correct to {:.1f}%)\".format(gain_cs,\n",
    "                                               ((gain_cs - expected_gain) / expected_gain) * 100))\n",
    "\n",
    "        print(\"rms gain pds_norm/cs_dt: \"\n",
    "              \"{:.2f} (correct to {:.1f}%)\".format(gain_pds_norm,\n",
    "                                               ((gain_pds_norm - expected_gain) / expected_gain) * 100))\n",
    "\n",
    "        print(\"rms gain pds_clean/cs_dt: \"\n",
    "              \"{:.2f} (correct to {:.1f}%)\".format(gain_pds_clean,\n",
    "                                                   ((gain_pds_clean - expected_gain) / expected_gain) * 100))\n",
    "\n",
    "        print(\"rms gain pdstot_norm/cs_dt: \"\n",
    "              \"{:.2f} (correct to {:.1f}%)\".format(gain_pdstot_norm,\n",
    "                                              ((gain_pdstot_norm - expected_gain) / expected_gain) * 100))\n",
    "\n",
    "    deltas = {'delta clean': delta_cs_clean, 'CS': delta_cs, 'PDS': delta_pds, 'PDStot': delta_pdstot}\n",
    "    return deltas"
   ]
  },
  {
   "cell_type": "code",
   "execution_count": 23,
   "metadata": {},
   "outputs": [
    {
     "name": "stdout",
     "output_type": "stream",
     "text": [
      "Estimated: 130.973632812 194.737243314 Ratio: 1.48684310829\n",
      "Real:  130.973632812 199.208984375 Ratio: 1.52098540826\n",
      "Measured frac. rms from clean spectrum: 20.18%\n",
      "Measured frac. rms from fad-corrected cs: 21.07%\n",
      "Measured frac. rms from fad-corrected total pds: 20.94%\n",
      "Measured frac. rms from fad-corrected single pds: 20.86%\n",
      "Measured frac. rms from deadtime-affected cs: 14.03%\n",
      "rms gain expected from incident/detected ratio: 1.49\n",
      "rms gain cs_norm/cs_dt: 1.50 (correct to 1.0%)\n",
      "rms gain pds_norm/cs_dt: 1.49 (correct to -0.0%)\n",
      "rms gain pds_clean/cs_dt: 1.45 (correct to -2.7%)\n",
      "rms gain pdstot_norm/cs_dt: 1.49 (correct to 0.4%)\n"
     ]
    },
    {
     "data": {
      "text/plain": [
       "{'CS': 0.044296743859034787,\n",
       " 'PDS': 0.03365058095922261,\n",
       " 'PDStot': 0.037704606055517086,\n",
       " 'delta clean': -0.006074207227928315}"
      ]
     },
     "execution_count": 23,
     "metadata": {},
     "output_type": "execute_result"
    },
    {
     "data": {
      "image/png": "[encoded data removed]",
      "text/plain": [
       "<matplotlib.figure.Figure at 0x12298fac8>"
      ]
     },
     "metadata": {},
     "output_type": "display_data"
    }
   ],
   "source": [
    "fit_model_to_all_data('100.00', model)"
   ]
  },
  {
   "cell_type": "markdown",
   "metadata": {
    "collapsed": true
   },
   "source": [
    "## And now, some statistics."
   ]
  },
  {
   "cell_type": "code",
   "execution_count": 32,
   "metadata": {
    "collapsed": true
   },
   "outputs": [],
   "source": [
    "from astropy.table import Table\n",
    "import shutil\n",
    "\n",
    "def map_fad_gain_with_channel_ratio(model, N, table_file=None, \n",
    "                                    smoothing_alg='gauss', fit_ref='pds'):\n",
    "    try:\n",
    "        table = Table.read(table_file)\n",
    "    except:\n",
    "        table = Table(names=['channel_ratio', 'incident_rate', 'length', 'segment size', \n",
    "                             'fit_ref', 'flux_correction', 'smoothing', \n",
    "                             'smoothing_length', 'delta clean', \n",
    "                             'CS', 'PDS 1', 'PDStot'])\n",
    "        \n",
    "    for i in range(N):\n",
    "        channel_ratio = np.random.uniform(0.5, 2)\n",
    "        mean_ctrate = np.random.uniform(100, 1000)\n",
    "        length = np.random.choice(2**np.arange(10, 12))\n",
    "        segment_size = np.random.choice(2**np.arange(6, 10))\n",
    "        if segment_size >= length:\n",
    "            continue\n",
    "        smoothing_length = np.random.randint(5, 7) * segment_size.astype(np.int64)\n",
    "\n",
    "        label = simulate_spectrum(model, tstop=length, segment_size=512, \n",
    "                                  channel_ratio=channel_ratio,\n",
    "                                  smoothing_alg=smoothing_alg, \n",
    "                                  smoothing_length=smoothing_length,\n",
    "                                  mean_ctrate=mean_ctrate)\n",
    "        deltas = fit_model_to_all_data(label, model, plot=False, \n",
    "                                       print_results=False, fmin=0, fmax=512,\n",
    "                                       fit_ref=fit_ref)\n",
    "        table.add_row([channel_ratio, mean_ctrate, length, segment_size, \n",
    "                       fit_ref, False, smoothing_alg, \n",
    "                       smoothing_length, deltas['delta clean'], \n",
    "                       deltas['CS'], deltas['PDS'], deltas['PDStot']])\n",
    "        for file in glob.glob(label + '*.nc'):\n",
    "            os.unlink(file)\n",
    "            pdsdir = file.replace('.nc', '')\n",
    "            if os.path.exists(pdsdir) and os.path.isdir(pdsdir):\n",
    "                shutil.rmtree(pdsdir)\n",
    "\n",
    "    if table_file is not None:\n",
    "        table.write(table_file)\n",
    "    return table"
   ]
  },
  {
   "cell_type": "code",
   "execution_count": 15,
   "metadata": {
    "collapsed": true
   },
   "outputs": [],
   "source": [
    "# benchmark\n",
    "# %prun -D profile_spline.prof map_fad_gain_with_channel_ratio(model, 1, table_file='results.csv', smoothing_alg='spline')\n"
   ]
  },
  {
   "cell_type": "code",
   "execution_count": 16,
   "metadata": {},
   "outputs": [
    {
     "name": "stdout",
     "output_type": "stream",
     "text": [
      " \n",
      "*** Profile stats marshalled to file 'profile_gauss.prof'. \n"
     ]
    }
   ],
   "source": [
    "%prun -D profile_gauss.prof map_fad_gain_with_channel_ratio(model, 1, table_file='results.csv', smoothing_alg='gauss')"
   ]
  },
  {
   "cell_type": "code",
   "execution_count": 17,
   "metadata": {},
   "outputs": [
    {
     "name": "stdout",
     "output_type": "stream",
     "text": [
      "snakeviz web server started on 127.0.0.1:8080; enter Ctrl-C to exit\n",
      "http://127.0.0.1:8080/snakeviz/%2FUsers%2Fmeo%2FDocuments%2FResearch%2FPapers%2Fdeadtime-paper-II%2Fnotebooks%2Fprofile_gauss.prof\n",
      "^C\n",
      "\n",
      "Bye!\n"
     ]
    }
   ],
   "source": [
    "!snakeviz profile_gauss.prof"
   ]
  },
  {
   "cell_type": "code",
   "execution_count": null,
   "metadata": {},
   "outputs": [
    {
     "name": "stdout",
     "output_type": "stream",
     "text": [
      "Iteration n. 124 completed\r"
     ]
    }
   ],
   "source": [
    "count = 0\n",
    "errcount = 0\n",
    "\n",
    "while(1):\n",
    "    try:\n",
    "        results = map_fad_gain_with_channel_ratio(model, 1, table_file='results.csv',\n",
    "                                                  smoothing_alg='gauss', fit_ref='cs')\n",
    "        count += 1\n",
    "        print('Iteration n. {} completed'.format(count), end='\\r')\n",
    "    except KeyboardInterrupt:\n",
    "        print('Ok. (after {} iterations)'.format(count))\n",
    "        break\n",
    "    except Exception as e:\n",
    "        with open('err.log', 'a') as errlog:\n",
    "            print(str(e), file=errlog)\n",
    "        if errcount > 10:\n",
    "            break\n",
    "        errcount += 1\n"
   ]
  },
  {
   "cell_type": "code",
   "execution_count": null,
   "metadata": {},
   "outputs": [],
   "source": [
    "from plot_all_trials import *\n",
    "plot_all('results.csv')"
   ]
  },
  {
   "cell_type": "code",
   "execution_count": null,
   "metadata": {
    "scrolled": false
   },
   "outputs": [],
   "source": [
    "pairplot('results.csv')"
   ]
  },
  {
   "cell_type": "code",
   "execution_count": null,
   "metadata": {},
   "outputs": [],
   "source": [
    "stats('results.csv')"
   ]
  },
  {
   "cell_type": "code",
   "execution_count": null,
   "metadata": {
    "collapsed": true
   },
   "outputs": [],
   "source": []
  }
 ],
 "metadata": {
  "kernelspec": {
   "display_name": "Python 3",
   "language": "python",
   "name": "python3"
  },
  "language_info": {
   "codemirror_mode": {
    "name": "ipython",
    "version": 3
   },
   "file_extension": ".py",
   "mimetype": "text/x-python",
   "name": "python",
   "nbconvert_exporter": "python",
   "pygments_lexer": "ipython3",
   "version": "3.6.1"
  }
 },
 "nbformat": 4,
 "nbformat_minor": 2
}
